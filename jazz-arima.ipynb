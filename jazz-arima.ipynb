{
  "nbformat": 4,
  "nbformat_minor": 0,
  "metadata": {
    "colab": {
      "name": "JazzyTitle.ipynb",
      "provenance": [],
      "collapsed_sections": []
    },
    "kernelspec": {
      "name": "python3",
      "display_name": "Python 3"
    },
    "language_info": {
      "name": "python"
    }
  },
  "cells": [
    {
      "cell_type": "code",
      "source": [
        "import pandas as pd\n",
        "import sqlite3\n",
        "import matplotlib.pyplot as plt\n",
        "import numpy as np\n",
        "\n",
        "from google.colab import drive\n",
        "drive.mount('/gdrive')\n",
        "%cd /gdrive"
      ],
      "metadata": {
        "colab": {
          "base_uri": "https://localhost:8080/"
        },
        "id": "30RKiZrvQ8n7",
        "outputId": "4b6a4d2d-326d-4ce7-ce59-cbd84c911652"
      },
      "execution_count": null,
      "outputs": [
        {
          "output_type": "stream",
          "name": "stdout",
          "text": [
            "\u001b[K     |████████████████████████████████| 5.6 MB 4.6 MB/s \n",
            "\u001b[K     |████████████████████████████████| 51 kB 5.9 MB/s \n",
            "\u001b[?25h  Building wheel for pretty-midi (setup.py) ... \u001b[?25l\u001b[?25hdone\n",
            "Drive already mounted at /gdrive; to attempt to forcibly remount, call drive.mount(\"/gdrive\", force_remount=True).\n",
            "/gdrive\n"
          ]
        }
      ]
    },
    {
      "cell_type": "code",
      "source": [
        "conn = sqlite3.connect('/gdrive/My Drive/wjazzd.db')\n",
        "conn.row_factory = sqlite3.Row"
      ],
      "metadata": {
        "id": "ydxo2tUSX0jo"
      },
      "execution_count": null,
      "outputs": []
    },
    {
      "cell_type": "code",
      "source": [
        "def visualize_tune(results):\n",
        "    # Declaring a figure \"gnt\"\n",
        "  fig, (gnt, sgnt) = plt.subplots(2)\n",
        "\n",
        "\n",
        "  #gs = fig.add_gridspec(2,2)\n",
        "  #gnt = fig.add_subplot(gs[0,:])\n",
        "  #sgnt = fig.add_subplot(gs[1,:])\n",
        "  # gnt = fig.add_subplot(2,1)\n",
        "  # sgnt = fig.add_subplot(2,2)\n",
        "  \n",
        "  # Setting Y-axis limits\n",
        "  gnt.set_ylim(min(results.pitch)-1.0, max(results.pitch)+1.0)\n",
        "  print(\"Min pitch: \", min(results['pitch']))\n",
        "  print(\"Max pitch: \", max(results['pitch']))\n",
        "\n",
        "  max_time = (results.onset.iloc[-1]+results.duration.iloc[-1])\n",
        "  \n",
        "  # Setting X-axis limits\n",
        "  gnt.set_xlim(0, max_time)\n",
        " \n",
        "  # Setting labels for x-axis and y-axis\n",
        "  gnt.set_xlabel('Solo time')\n",
        "  sgnt.set_xlabel('Solo time')\n",
        "  gnt.set_ylabel('Pitch')\n",
        " \n",
        "  # Setting ticks on y-axis\n",
        "  gnt.set_yticks(np.linspace(min(results.pitch), max(results.pitch), int(max(results.pitch)-min(results.pitch)+1)))\n",
        "  # Labelling tickes of y-axis\n",
        "  # gnt.set_yticklabels(results.pitch.unique())\n",
        " \n",
        "  # Setting graph attribute\n",
        "  gnt.grid(True)\n",
        "  sgnt.grid(True)\n",
        " \n",
        "  for idx, note in results.iterrows():\n",
        "    gnt.broken_barh([(note.onset,note.duration)], (note.pitch-0.2,0.4), facecolors=('tab:red'))\n",
        "\n",
        "  #Process for form, chorus, and chord boundaries\n",
        "  #sgnt.broken_barh([(note.onset,note.duration)], (0.5,1), facecolors='C{:d}'.format(int(note.CHORUS.strip('-'))))\n",
        "\n",
        "  section_categories = ['CHORD', 'FORM', 'CHORUS', 'IDEA', 'PHRASE', 'bar']\n",
        "\n",
        "  boundaries = {}\n",
        "  for type in section_categories:\n",
        "    boundaries[type] = []\n",
        "    boundaries[type].append({\"start\": 0, \"val\": results.iloc[0][type]})\n",
        "    val = ''\n",
        "    last_val = ''\n",
        "    for note_val in results.to_dict(orient=\"records\"):\n",
        "      #print(note_val)\n",
        "      if val is not note_val[type]:\n",
        "        val = note_val[type]\n",
        "        # print(note_val)\n",
        "        boundaries[type].append({\"start\": note_val['onset'], \"val\": note_val[type]})\n",
        "      last_val = note_val\n",
        "    boundaries[type].append({\"start\": last_val['onset']+last_val['duration'], \"val\": last_val[type]})\n",
        "  \n",
        "  print(\"boundaries:\")\n",
        "  print(boundaries)\n",
        "\n",
        "  gnt.set_xticks([boundaries['bar'][x]['start'] for x in range(len(boundaries['bar']))])\n",
        "    \n",
        "  sgnt.set_ylim(-0.5, len(boundaries.keys()))\n",
        "  sgnt.set_xlim(0, max_time)\n",
        "\n",
        "  key_enum = 0\n",
        "  for key in section_categories:\n",
        "    sec_enum = 0\n",
        "    for i in range(len(boundaries[key])):\n",
        "      if(i+1 >= len(boundaries[key])):\n",
        "        break\n",
        "      time_diff = boundaries[key][i+1][\"start\"] - boundaries[key][i][\"start\"]\n",
        "      sgnt.broken_barh([(boundaries[key][i][\"start\"],time_diff)], \n",
        "                       (key_enum-0.3, 0.6), \n",
        "                       facecolors='C{:d}'.format(sec_enum))\n",
        "      \n",
        "      sgnt.annotate(boundaries[key][i][\"val\"], # this is the text\n",
        "              (boundaries[key][i][\"start\"],key_enum), # these are the coordinates to position the label\n",
        "              textcoords=\"offset points\", # how to position the text\n",
        "              xytext=(10,0), # distance from text to points (x,y)\n",
        "              ha='center') # horizontal alignment can be left, right or center\n",
        "      sec_enum += 1\n",
        "    key_enum += 1\n",
        "\n",
        "  sgnt.set_yticks(range(len(section_categories)))\n",
        "  sgnt.set_yticklabels(section_categories)\n",
        "\n",
        "  fig.set_size_inches(23, 20)\n",
        "\n",
        "  fig2, (ax2, ax3, ax4) = plt.subplots(nrows=3, ncols=1) # two axes on figure\n",
        "  print(min(results.division))\n",
        "  print(max(results.division))\n",
        "  fig2.set_size_inches(18.5, 10.5)\n",
        "  ax2.hist(results.division, bins=6)\n",
        "  ax3.hist(results.pitch, bins=int(max(results.pitch)-min(results.pitch)+1))\n",
        "  ax4.hist(results.duration, bins=6)\n",
        "  plt.show()\n",
        "  #test"
      ],
      "metadata": {
        "id": "0d65lEqojH5S"
      },
      "execution_count": null,
      "outputs": []
    },
    {
      "cell_type": "code",
      "execution_count": null,
      "metadata": {
        "id": "0dFZ61-iNHVp",
        "colab": {
          "base_uri": "https://localhost:8080/"
        },
        "outputId": "d71232ed-67e1-411e-a5fa-54227da73aab"
      },
      "outputs": [
        {
          "output_type": "stream",
          "name": "stdout",
          "text": [
            "okay\n",
            "okay\n",
            "okay\n",
            "okay\n",
            "okay\n",
            "okay\n",
            "okay\n",
            "okay\n",
            "okay\n",
            "okay\n",
            "okay\n",
            "okay\n",
            "okay\n",
            "okay\n",
            "okay\n",
            "okay\n",
            "okay\n",
            "     pitch  duration       onset  division  bar  beat  tatum  num  denom  \\\n",
            "0     53.0  0.206122    8.038776         2    1     1      2    4      4   \n",
            "1     57.0  0.963265    8.259184         1    1     2      1    4      4   \n",
            "2     59.0  0.451020   10.102041         2    2     3      2    4      4   \n",
            "3     61.0  0.232653   10.577551         6    3     1      1    4      4   \n",
            "4     59.0  0.218367   10.869388         6    3     1      6    4      4   \n",
            "..     ...       ...         ...       ...  ...   ...    ...  ...    ...   \n",
            "370   54.0  0.201020  133.309184         3   96     2      1    4      4   \n",
            "371   57.0  0.121429  133.541837         3   96     2      3    4      4   \n",
            "372   59.0  0.106122  133.676531         4   96     3      2    4      4   \n",
            "373   57.0  0.120408  133.846939         4   96     3      4    4      4   \n",
            "374   54.0  0.178571  134.002041         1   96     4      1    4      4   \n",
            "\n",
            "    beatprops  \n",
            "0        None  \n",
            "1        None  \n",
            "2        None  \n",
            "3        None  \n",
            "4        None  \n",
            "..        ...  \n",
            "370      None  \n",
            "371      None  \n",
            "372      None  \n",
            "373      None  \n",
            "374      None  \n",
            "\n",
            "[375 rows x 10 columns]\n",
            "pitch here 0      53.0\n",
            "1      57.0\n",
            "2      59.0\n",
            "3      61.0\n",
            "4      59.0\n",
            "       ... \n",
            "370    54.0\n",
            "371    57.0\n",
            "372    59.0\n",
            "373    57.0\n",
            "374    54.0\n",
            "Name: pitch, Length: 375, dtype: float64\n",
            "pitch here 0      53.0\n",
            "1      57.0\n",
            "2      59.0\n",
            "3      61.0\n",
            "4      59.0\n",
            "       ... \n",
            "370    54.0\n",
            "371    57.0\n",
            "372    59.0\n",
            "373    57.0\n",
            "374    54.0\n",
            "Name: pitch, Length: 375, dtype: float64\n",
            "pitch here 0      53.0\n",
            "1      57.0\n",
            "2      59.0\n",
            "3      61.0\n",
            "4      59.0\n",
            "       ... \n",
            "370    54.0\n",
            "371    57.0\n",
            "372    59.0\n",
            "373    57.0\n",
            "374    54.0\n",
            "Name: pitch, Length: 375, dtype: float64\n",
            "pitch here 0      53.0\n",
            "1      57.0\n",
            "2      59.0\n",
            "3      61.0\n",
            "4      59.0\n",
            "       ... \n",
            "370    54.0\n",
            "371    57.0\n",
            "372    59.0\n",
            "373    57.0\n",
            "374    54.0\n",
            "Name: pitch, Length: 375, dtype: float64\n",
            "pitch here 0      53.0\n",
            "1      57.0\n",
            "2      59.0\n",
            "3      61.0\n",
            "4      59.0\n",
            "       ... \n",
            "370    54.0\n",
            "371    57.0\n",
            "372    59.0\n",
            "373    57.0\n",
            "374    54.0\n",
            "Name: pitch, Length: 375, dtype: float64\n"
          ]
        }
      ],
      "source": [
        "#Get the solo info\n",
        "\n",
        "mid = 24\n",
        "num_songs = 1\n",
        "cur = conn.execute(\"select * FROM solo_info where melid=%s\" % mid)\n",
        "for tune in cur: #For each tune\n",
        "  for key in tune.keys():\n",
        "    #print(key, tune[key])\n",
        "    print('okay')\n",
        "\n",
        "  # Get the melody of the tune as a database cursor\n",
        "  melody_cur = conn.execute(\"select pitch,duration,onset,division,bar,beat,tatum,num,denom,beatprops from melody where melid=%s\" % tune['melid'])\n",
        "  section_cur = conn.execute(\"select * from sections where melid=%s\" % tune['melid'])\n",
        "\n",
        "  # Extract the melody info from this tune's melody entry\n",
        "  results = pd.DataFrame.from_records(data = melody_cur.fetchall(), columns = [col[0] for col in melody_cur.description])\n",
        "  print(results)\n",
        "  sections = pd.DataFrame.from_records(data = section_cur.fetchall(), columns = [col[0] for col in section_cur.description])\n",
        "\n",
        "  annotations = {}\n",
        "  for sec_type in sections.type.unique():\n",
        "    annotations[sec_type] = []\n",
        "    for bars in sections.loc[sections.type == sec_type].itertuples():\n",
        "      for i in range(bars.start, bars.end+1):\n",
        "        annotations[sec_type].append(bars.value)\n",
        "\n",
        "    results[sec_type] = annotations[sec_type]\n",
        "\n",
        "    print('pitch here',results['pitch'])\n",
        "  # for x in results.itertuples():\n",
        "  #   print(x)\n",
        "    \n",
        "\n",
        "  #Plot the solo for testing\n",
        "  #visualize_tune(results)"
      ]
    },
    {
      "cell_type": "code",
      "source": [
        ""
      ],
      "metadata": {
        "id": "sqXJkFoEWeUw"
      },
      "execution_count": null,
      "outputs": []
    },
    {
      "cell_type": "markdown",
      "source": [
        "# CREATE MODEL "
      ],
      "metadata": {
        "id": "HudjbF8hWkBh"
      }
    },
    {
      "cell_type": "code",
      "source": [
        "def create_network(network_in):\n",
        "  \n",
        "  model = Sequential()\n",
        "  model.add(LSTM(128, input_shape=network_in.shape, return_sequences=True))  \n",
        "  model.add(Dropout(0.2))\n",
        "  model.add(LSTM(128, return_sequences=True))  \n",
        "  model.add(Flatten())  \n",
        "  model.add(Dense(256))  \n",
        "  #model.add(Dropout(0.3))  \n",
        "  #model.add(Dense(n_vocab))  \n",
        "  model.add(Activation('softmax'))  \n",
        "  model.compile(loss='categorical_crossentropy', optimizer='adam')  \n",
        "\n",
        "  return model"
      ],
      "metadata": {
        "id": "tl1M2EzB9H5b"
      },
      "execution_count": null,
      "outputs": []
    },
    {
      "cell_type": "code",
      "source": [
        "#print(results.iloc[0: 101])\n",
        "#print(results.iloc[100])"
      ],
      "metadata": {
        "id": "TB6K22h6PO5w"
      },
      "execution_count": null,
      "outputs": []
    },
    {
      "cell_type": "code",
      "source": [
        "#Create pitch-only dataset with sequences of notes\n",
        "# create input sequences and the corresponding outputs\n",
        "def get_sequences(results, sequence_length):\n",
        "  #why do we have 100 columns?\n",
        "  network_input = np.zeros((results.shape[0], sequence_length))\n",
        "  \n",
        "  network_output = np.zeros((results.shape[0],))\n",
        "  x = 0\n",
        "  #for i in range(0,275,1)\n",
        "  for i in range(0, len(results) - sequence_length, 1):\n",
        "    # contains all info from results for a group of 100 notes \n",
        "    sequence_in = results.iloc[i: i + sequence_length]\n",
        "    \n",
        "    #contains the pitch information for the next note \n",
        "    sequence_out = results.iloc[i + sequence_length]\n",
        "\n",
        "    network_input[x] = np.array(sequence_in['pitch'])\n",
        "    network_output[x] = sequence_out['pitch']\n",
        "    x += 1\n",
        "\n",
        "\n",
        "  #print('type', type((network_input, network_output)))\n",
        "  \n",
        "  return (network_input, network_output)"
      ],
      "metadata": {
        "id": "pDwUmVPEuIg0"
      },
      "execution_count": null,
      "outputs": []
    },
    {
      "cell_type": "code",
      "source": [
        "import keras\n",
        "from keras import *\n",
        "from keras.layers import *\n",
        "from keras.callbacks import ModelCheckpoint\n",
        "\n",
        "#print('results shape[1:]',results.shape[1:])\n",
        "\n",
        "(network_in, network_out) = get_sequences(results, 100)\n",
        "\n",
        "print('network input',len(network_in))\n",
        "print('newtwork output',len(network_out))\n",
        "\n",
        "#where is our training, validation and testing data? \n",
        "\n",
        "\n",
        "#CALL MODEL \n",
        "model = create_network(network_in)\n",
        "\n",
        "\n",
        "epochs = 100\n",
        "\n",
        "filepath = 'weights.best.music3.hdf5'  \n",
        "checkpoint = ModelCheckpoint(filepath, monitor='loss', verbose=0, save_best_only=True)  \n",
        "\n",
        "#model.fit(network_in, network_out, epochs=epochs, batch_size=32, callbacks=[checkpoint])  \n"
      ],
      "metadata": {
        "colab": {
          "base_uri": "https://localhost:8080/"
        },
        "id": "VPqCOnBc19oV",
        "outputId": "d2afd101-c060-4ee7-8e9b-a9caebf68415"
      },
      "execution_count": null,
      "outputs": [
        {
          "output_type": "stream",
          "name": "stdout",
          "text": [
            "network input 375\n",
            "newtwork output 375\n",
            "network input 375\n",
            "newtwork output 375\n"
          ]
        }
      ]
    },
    {
      "cell_type": "code",
      "source": [
        "split = int(0.8*len(results))\n",
        "\n",
        "#training = 300 \n",
        "training = results.iloc[0:split,:]\n",
        "\n",
        "#testing = 75\n",
        "testing = results.iloc[split:,:]\n",
        "\n"
      ],
      "metadata": {
        "id": "YKTh0XOAWX8Y"
      },
      "execution_count": null,
      "outputs": []
    },
    {
      "cell_type": "code",
      "source": [
        "from pandas._libs.lib import generate_bins_dt64\n",
        "model2 = keras.models.Sequential([\n",
        "  keras.layers.SimpleRNN(20, return_sequences = True, input_shape = [None,1]),\n",
        "  keras.layers.SimpleRNN(20, return_sequences = True),\n",
        "  keras.layers.TimeDistributed(keras.layers.Dense(10))\n",
        "])\n",
        "\n",
        "netIN, netOut = get_sequences(training,100)\n",
        "print(netIN)\n",
        "\n",
        "yPred = model2.predict(netIN)\n",
        "\n",
        "#print(len(yPred))\n",
        "print(yPred)\n",
        "\n",
        "\n"
      ],
      "metadata": {
        "colab": {
          "base_uri": "https://localhost:8080/"
        },
        "id": "s9ylzjB5WXxX",
        "outputId": "7cfdeb1b-9275-448e-a490-1fa978ac738d"
      },
      "execution_count": null,
      "outputs": [
        {
          "output_type": "stream",
          "name": "stdout",
          "text": [
            "network input 300\n",
            "newtwork output 300\n",
            "[[53. 57. 59. ... 62. 66. 62.]\n",
            " [57. 59. 61. ... 66. 62. 59.]\n",
            " [59. 61. 59. ... 62. 59. 57.]\n",
            " ...\n",
            " [ 0.  0.  0. ...  0.  0.  0.]\n",
            " [ 0.  0.  0. ...  0.  0.  0.]\n",
            " [ 0.  0.  0. ...  0.  0.  0.]]\n",
            "[[[-0.12956852  0.27088845  0.41497487 ... -0.6406051  -0.5125568\n",
            "   -0.34024015]\n",
            "  [ 0.00631791  0.48322862  0.60765153 ... -0.63790023  0.02600439\n",
            "   -0.41916397]\n",
            "  [ 0.03662869  0.33082798  0.58366597 ... -0.85437703 -0.06923814\n",
            "   -0.2781157 ]\n",
            "  ...\n",
            "  [ 0.2319273   0.08468753  0.47552377 ... -1.1052141  -0.2660186\n",
            "   -0.43483654]\n",
            "  [ 0.21339925  0.07151759  0.47575948 ... -1.0962209  -0.28015077\n",
            "   -0.3870651 ]\n",
            "  [ 0.24419516  0.09531377  0.4474006  ... -1.0989759  -0.27665406\n",
            "   -0.42620352]]\n",
            "\n",
            " [[-0.13640693  0.26111317  0.41543555 ... -0.6364539  -0.5064906\n",
            "   -0.33563307]\n",
            "  [-0.00193739  0.48227617  0.60735786 ... -0.63390803  0.02017147\n",
            "   -0.40038893]\n",
            "  [ 0.0374549   0.33462474  0.58738136 ... -0.8470514  -0.07360365\n",
            "   -0.26371112]\n",
            "  ...\n",
            "  [ 0.21339932  0.07151765  0.4757594  ... -1.0962209  -0.28015062\n",
            "   -0.38706517]\n",
            "  [ 0.24419525  0.09531358  0.44740054 ... -1.0989759  -0.2766542\n",
            "   -0.42620364]\n",
            "  [ 0.23974961  0.09219808  0.4607543  ... -1.1006472  -0.26261377\n",
            "   -0.45170394]]\n",
            "\n",
            " [[-0.13957101  0.25658134  0.41559675 ... -0.6344761  -0.50347507\n",
            "   -0.33371678]\n",
            "  [-0.0091067   0.47921634  0.6106367  ... -0.63246685  0.01561431\n",
            "   -0.38519952]\n",
            "  [ 0.05552144  0.34238204  0.57712746 ... -0.8485189  -0.07767961\n",
            "   -0.27559718]\n",
            "  ...\n",
            "  [ 0.24419516  0.09531353  0.44740048 ... -1.0989758  -0.27665415\n",
            "   -0.42620352]\n",
            "  [ 0.23974958  0.09219821  0.4607542  ... -1.1006472  -0.26261365\n",
            "   -0.4517039 ]\n",
            "  [ 0.23494141  0.08931488  0.46434996 ... -1.1123662  -0.26755908\n",
            "   -0.4474649 ]]\n",
            "\n",
            " ...\n",
            "\n",
            " [[ 0.          0.          0.         ...  0.          0.\n",
            "    0.        ]\n",
            "  [ 0.          0.          0.         ...  0.          0.\n",
            "    0.        ]\n",
            "  [ 0.          0.          0.         ...  0.          0.\n",
            "    0.        ]\n",
            "  ...\n",
            "  [ 0.          0.          0.         ...  0.          0.\n",
            "    0.        ]\n",
            "  [ 0.          0.          0.         ...  0.          0.\n",
            "    0.        ]\n",
            "  [ 0.          0.          0.         ...  0.          0.\n",
            "    0.        ]]\n",
            "\n",
            " [[ 0.          0.          0.         ...  0.          0.\n",
            "    0.        ]\n",
            "  [ 0.          0.          0.         ...  0.          0.\n",
            "    0.        ]\n",
            "  [ 0.          0.          0.         ...  0.          0.\n",
            "    0.        ]\n",
            "  ...\n",
            "  [ 0.          0.          0.         ...  0.          0.\n",
            "    0.        ]\n",
            "  [ 0.          0.          0.         ...  0.          0.\n",
            "    0.        ]\n",
            "  [ 0.          0.          0.         ...  0.          0.\n",
            "    0.        ]]\n",
            "\n",
            " [[ 0.          0.          0.         ...  0.          0.\n",
            "    0.        ]\n",
            "  [ 0.          0.          0.         ...  0.          0.\n",
            "    0.        ]\n",
            "  [ 0.          0.          0.         ...  0.          0.\n",
            "    0.        ]\n",
            "  ...\n",
            "  [ 0.          0.          0.         ...  0.          0.\n",
            "    0.        ]\n",
            "  [ 0.          0.          0.         ...  0.          0.\n",
            "    0.        ]\n",
            "  [ 0.          0.          0.         ...  0.          0.\n",
            "    0.        ]]]\n"
          ]
        }
      ]
    },
    {
      "cell_type": "code",
      "source": [
        ""
      ],
      "metadata": {
        "id": "V8GVmPehWXk3"
      },
      "execution_count": null,
      "outputs": []
    },
    {
      "cell_type": "code",
      "source": [
        ""
      ],
      "metadata": {
        "id": "RuGfmUyAWW2-"
      },
      "execution_count": null,
      "outputs": []
    },
    {
      "cell_type": "code",
      "source": [
        ""
      ],
      "metadata": {
        "id": "1m0YFBgdWWm_"
      },
      "execution_count": null,
      "outputs": []
    },
    {
      "cell_type": "code",
      "source": [
        ""
      ],
      "metadata": {
        "id": "GEinfEO_WWVm"
      },
      "execution_count": null,
      "outputs": []
    },
    {
      "cell_type": "code",
      "source": [
        ""
      ],
      "metadata": {
        "id": "Axk-Xv1LWWJY"
      },
      "execution_count": null,
      "outputs": []
    },
    {
      "cell_type": "code",
      "source": [
        "!pip install pmdarima\n",
        "from pmdarima.arima import auto_arima"
      ],
      "metadata": {
        "id": "C1AukahDYUVU",
        "colab": {
          "base_uri": "https://localhost:8080/"
        },
        "outputId": "308a24d6-dc64-426a-e5a1-42f2735a4fa4"
      },
      "execution_count": null,
      "outputs": [
        {
          "output_type": "stream",
          "name": "stdout",
          "text": [
            "Collecting pmdarima\n",
            "  Downloading pmdarima-1.8.5-cp37-cp37m-manylinux_2_17_x86_64.manylinux2014_x86_64.manylinux_2_24_x86_64.whl (1.4 MB)\n",
            "\u001b[?25l\r\u001b[K     |▎                               | 10 kB 14.2 MB/s eta 0:00:01\r\u001b[K     |▌                               | 20 kB 10.6 MB/s eta 0:00:01\r\u001b[K     |▊                               | 30 kB 9.1 MB/s eta 0:00:01\r\u001b[K     |█                               | 40 kB 4.4 MB/s eta 0:00:01\r\u001b[K     |█▏                              | 51 kB 4.3 MB/s eta 0:00:01\r\u001b[K     |█▍                              | 61 kB 5.1 MB/s eta 0:00:01\r\u001b[K     |█▋                              | 71 kB 5.6 MB/s eta 0:00:01\r\u001b[K     |██                              | 81 kB 5.3 MB/s eta 0:00:01\r\u001b[K     |██▏                             | 92 kB 5.9 MB/s eta 0:00:01\r\u001b[K     |██▍                             | 102 kB 5.1 MB/s eta 0:00:01\r\u001b[K     |██▋                             | 112 kB 5.1 MB/s eta 0:00:01\r\u001b[K     |██▉                             | 122 kB 5.1 MB/s eta 0:00:01\r\u001b[K     |███                             | 133 kB 5.1 MB/s eta 0:00:01\r\u001b[K     |███▎                            | 143 kB 5.1 MB/s eta 0:00:01\r\u001b[K     |███▌                            | 153 kB 5.1 MB/s eta 0:00:01\r\u001b[K     |███▉                            | 163 kB 5.1 MB/s eta 0:00:01\r\u001b[K     |████                            | 174 kB 5.1 MB/s eta 0:00:01\r\u001b[K     |████▎                           | 184 kB 5.1 MB/s eta 0:00:01\r\u001b[K     |████▌                           | 194 kB 5.1 MB/s eta 0:00:01\r\u001b[K     |████▊                           | 204 kB 5.1 MB/s eta 0:00:01\r\u001b[K     |█████                           | 215 kB 5.1 MB/s eta 0:00:01\r\u001b[K     |█████▏                          | 225 kB 5.1 MB/s eta 0:00:01\r\u001b[K     |█████▍                          | 235 kB 5.1 MB/s eta 0:00:01\r\u001b[K     |█████▊                          | 245 kB 5.1 MB/s eta 0:00:01\r\u001b[K     |██████                          | 256 kB 5.1 MB/s eta 0:00:01\r\u001b[K     |██████▏                         | 266 kB 5.1 MB/s eta 0:00:01\r\u001b[K     |██████▍                         | 276 kB 5.1 MB/s eta 0:00:01\r\u001b[K     |██████▋                         | 286 kB 5.1 MB/s eta 0:00:01\r\u001b[K     |██████▉                         | 296 kB 5.1 MB/s eta 0:00:01\r\u001b[K     |███████                         | 307 kB 5.1 MB/s eta 0:00:01\r\u001b[K     |███████▎                        | 317 kB 5.1 MB/s eta 0:00:01\r\u001b[K     |███████▋                        | 327 kB 5.1 MB/s eta 0:00:01\r\u001b[K     |███████▉                        | 337 kB 5.1 MB/s eta 0:00:01\r\u001b[K     |████████                        | 348 kB 5.1 MB/s eta 0:00:01\r\u001b[K     |████████▎                       | 358 kB 5.1 MB/s eta 0:00:01\r\u001b[K     |████████▌                       | 368 kB 5.1 MB/s eta 0:00:01\r\u001b[K     |████████▊                       | 378 kB 5.1 MB/s eta 0:00:01\r\u001b[K     |█████████                       | 389 kB 5.1 MB/s eta 0:00:01\r\u001b[K     |█████████▎                      | 399 kB 5.1 MB/s eta 0:00:01\r\u001b[K     |█████████▌                      | 409 kB 5.1 MB/s eta 0:00:01\r\u001b[K     |█████████▊                      | 419 kB 5.1 MB/s eta 0:00:01\r\u001b[K     |██████████                      | 430 kB 5.1 MB/s eta 0:00:01\r\u001b[K     |██████████▏                     | 440 kB 5.1 MB/s eta 0:00:01\r\u001b[K     |██████████▍                     | 450 kB 5.1 MB/s eta 0:00:01\r\u001b[K     |██████████▋                     | 460 kB 5.1 MB/s eta 0:00:01\r\u001b[K     |██████████▉                     | 471 kB 5.1 MB/s eta 0:00:01\r\u001b[K     |███████████▏                    | 481 kB 5.1 MB/s eta 0:00:01\r\u001b[K     |███████████▍                    | 491 kB 5.1 MB/s eta 0:00:01\r\u001b[K     |███████████▋                    | 501 kB 5.1 MB/s eta 0:00:01\r\u001b[K     |███████████▉                    | 512 kB 5.1 MB/s eta 0:00:01\r\u001b[K     |████████████                    | 522 kB 5.1 MB/s eta 0:00:01\r\u001b[K     |████████████▎                   | 532 kB 5.1 MB/s eta 0:00:01\r\u001b[K     |████████████▌                   | 542 kB 5.1 MB/s eta 0:00:01\r\u001b[K     |████████████▊                   | 552 kB 5.1 MB/s eta 0:00:01\r\u001b[K     |█████████████                   | 563 kB 5.1 MB/s eta 0:00:01\r\u001b[K     |█████████████▎                  | 573 kB 5.1 MB/s eta 0:00:01\r\u001b[K     |█████████████▌                  | 583 kB 5.1 MB/s eta 0:00:01\r\u001b[K     |█████████████▊                  | 593 kB 5.1 MB/s eta 0:00:01\r\u001b[K     |██████████████                  | 604 kB 5.1 MB/s eta 0:00:01\r\u001b[K     |██████████████▏                 | 614 kB 5.1 MB/s eta 0:00:01\r\u001b[K     |██████████████▍                 | 624 kB 5.1 MB/s eta 0:00:01\r\u001b[K     |██████████████▋                 | 634 kB 5.1 MB/s eta 0:00:01\r\u001b[K     |███████████████                 | 645 kB 5.1 MB/s eta 0:00:01\r\u001b[K     |███████████████▏                | 655 kB 5.1 MB/s eta 0:00:01\r\u001b[K     |███████████████▍                | 665 kB 5.1 MB/s eta 0:00:01\r\u001b[K     |███████████████▋                | 675 kB 5.1 MB/s eta 0:00:01\r\u001b[K     |███████████████▉                | 686 kB 5.1 MB/s eta 0:00:01\r\u001b[K     |████████████████                | 696 kB 5.1 MB/s eta 0:00:01\r\u001b[K     |████████████████▎               | 706 kB 5.1 MB/s eta 0:00:01\r\u001b[K     |████████████████▋               | 716 kB 5.1 MB/s eta 0:00:01\r\u001b[K     |████████████████▉               | 727 kB 5.1 MB/s eta 0:00:01\r\u001b[K     |█████████████████               | 737 kB 5.1 MB/s eta 0:00:01\r\u001b[K     |█████████████████▎              | 747 kB 5.1 MB/s eta 0:00:01\r\u001b[K     |█████████████████▌              | 757 kB 5.1 MB/s eta 0:00:01\r\u001b[K     |█████████████████▊              | 768 kB 5.1 MB/s eta 0:00:01\r\u001b[K     |██████████████████              | 778 kB 5.1 MB/s eta 0:00:01\r\u001b[K     |██████████████████▏             | 788 kB 5.1 MB/s eta 0:00:01\r\u001b[K     |██████████████████▌             | 798 kB 5.1 MB/s eta 0:00:01\r\u001b[K     |██████████████████▊             | 808 kB 5.1 MB/s eta 0:00:01\r\u001b[K     |███████████████████             | 819 kB 5.1 MB/s eta 0:00:01\r\u001b[K     |███████████████████▏            | 829 kB 5.1 MB/s eta 0:00:01\r\u001b[K     |███████████████████▍            | 839 kB 5.1 MB/s eta 0:00:01\r\u001b[K     |███████████████████▋            | 849 kB 5.1 MB/s eta 0:00:01\r\u001b[K     |███████████████████▉            | 860 kB 5.1 MB/s eta 0:00:01\r\u001b[K     |████████████████████            | 870 kB 5.1 MB/s eta 0:00:01\r\u001b[K     |████████████████████▍           | 880 kB 5.1 MB/s eta 0:00:01\r\u001b[K     |████████████████████▋           | 890 kB 5.1 MB/s eta 0:00:01\r\u001b[K     |████████████████████▉           | 901 kB 5.1 MB/s eta 0:00:01\r\u001b[K     |█████████████████████           | 911 kB 5.1 MB/s eta 0:00:01\r\u001b[K     |█████████████████████▎          | 921 kB 5.1 MB/s eta 0:00:01\r\u001b[K     |█████████████████████▌          | 931 kB 5.1 MB/s eta 0:00:01\r\u001b[K     |█████████████████████▊          | 942 kB 5.1 MB/s eta 0:00:01\r\u001b[K     |██████████████████████          | 952 kB 5.1 MB/s eta 0:00:01\r\u001b[K     |██████████████████████▎         | 962 kB 5.1 MB/s eta 0:00:01\r\u001b[K     |██████████████████████▌         | 972 kB 5.1 MB/s eta 0:00:01\r\u001b[K     |██████████████████████▊         | 983 kB 5.1 MB/s eta 0:00:01\r\u001b[K     |███████████████████████         | 993 kB 5.1 MB/s eta 0:00:01\r\u001b[K     |███████████████████████▏        | 1.0 MB 5.1 MB/s eta 0:00:01\r\u001b[K     |███████████████████████▍        | 1.0 MB 5.1 MB/s eta 0:00:01\r\u001b[K     |███████████████████████▋        | 1.0 MB 5.1 MB/s eta 0:00:01\r\u001b[K     |████████████████████████        | 1.0 MB 5.1 MB/s eta 0:00:01\r\u001b[K     |████████████████████████▏       | 1.0 MB 5.1 MB/s eta 0:00:01\r\u001b[K     |████████████████████████▍       | 1.1 MB 5.1 MB/s eta 0:00:01\r\u001b[K     |████████████████████████▋       | 1.1 MB 5.1 MB/s eta 0:00:01\r\u001b[K     |████████████████████████▉       | 1.1 MB 5.1 MB/s eta 0:00:01\r\u001b[K     |█████████████████████████       | 1.1 MB 5.1 MB/s eta 0:00:01\r\u001b[K     |█████████████████████████▎      | 1.1 MB 5.1 MB/s eta 0:00:01\r\u001b[K     |█████████████████████████▌      | 1.1 MB 5.1 MB/s eta 0:00:01\r\u001b[K     |█████████████████████████▉      | 1.1 MB 5.1 MB/s eta 0:00:01\r\u001b[K     |██████████████████████████      | 1.1 MB 5.1 MB/s eta 0:00:01\r\u001b[K     |██████████████████████████▎     | 1.1 MB 5.1 MB/s eta 0:00:01\r\u001b[K     |██████████████████████████▌     | 1.1 MB 5.1 MB/s eta 0:00:01\r\u001b[K     |██████████████████████████▊     | 1.2 MB 5.1 MB/s eta 0:00:01\r\u001b[K     |███████████████████████████     | 1.2 MB 5.1 MB/s eta 0:00:01\r\u001b[K     |███████████████████████████▏    | 1.2 MB 5.1 MB/s eta 0:00:01\r\u001b[K     |███████████████████████████▍    | 1.2 MB 5.1 MB/s eta 0:00:01\r\u001b[K     |███████████████████████████▊    | 1.2 MB 5.1 MB/s eta 0:00:01\r\u001b[K     |████████████████████████████    | 1.2 MB 5.1 MB/s eta 0:00:01\r\u001b[K     |████████████████████████████▏   | 1.2 MB 5.1 MB/s eta 0:00:01\r\u001b[K     |████████████████████████████▍   | 1.2 MB 5.1 MB/s eta 0:00:01\r\u001b[K     |████████████████████████████▋   | 1.2 MB 5.1 MB/s eta 0:00:01\r\u001b[K     |████████████████████████████▉   | 1.2 MB 5.1 MB/s eta 0:00:01\r\u001b[K     |█████████████████████████████   | 1.3 MB 5.1 MB/s eta 0:00:01\r\u001b[K     |█████████████████████████████▎  | 1.3 MB 5.1 MB/s eta 0:00:01\r\u001b[K     |█████████████████████████████▋  | 1.3 MB 5.1 MB/s eta 0:00:01\r\u001b[K     |█████████████████████████████▉  | 1.3 MB 5.1 MB/s eta 0:00:01\r\u001b[K     |██████████████████████████████  | 1.3 MB 5.1 MB/s eta 0:00:01\r\u001b[K     |██████████████████████████████▎ | 1.3 MB 5.1 MB/s eta 0:00:01\r\u001b[K     |██████████████████████████████▌ | 1.3 MB 5.1 MB/s eta 0:00:01\r\u001b[K     |██████████████████████████████▊ | 1.3 MB 5.1 MB/s eta 0:00:01\r\u001b[K     |███████████████████████████████ | 1.3 MB 5.1 MB/s eta 0:00:01\r\u001b[K     |███████████████████████████████▎| 1.4 MB 5.1 MB/s eta 0:00:01\r\u001b[K     |███████████████████████████████▌| 1.4 MB 5.1 MB/s eta 0:00:01\r\u001b[K     |███████████████████████████████▊| 1.4 MB 5.1 MB/s eta 0:00:01\r\u001b[K     |████████████████████████████████| 1.4 MB 5.1 MB/s eta 0:00:01\r\u001b[K     |████████████████████████████████| 1.4 MB 5.1 MB/s \n",
            "\u001b[?25hRequirement already satisfied: urllib3 in /usr/local/lib/python3.7/dist-packages (from pmdarima) (1.24.3)\n",
            "Requirement already satisfied: pandas>=0.19 in /usr/local/lib/python3.7/dist-packages (from pmdarima) (1.3.5)\n",
            "Requirement already satisfied: numpy>=1.19.3 in /usr/local/lib/python3.7/dist-packages (from pmdarima) (1.21.6)\n",
            "Requirement already satisfied: Cython!=0.29.18,>=0.29 in /usr/local/lib/python3.7/dist-packages (from pmdarima) (0.29.28)\n",
            "Requirement already satisfied: scikit-learn>=0.22 in /usr/local/lib/python3.7/dist-packages (from pmdarima) (1.0.2)\n",
            "Requirement already satisfied: setuptools!=50.0.0,>=38.6.0 in /usr/local/lib/python3.7/dist-packages (from pmdarima) (57.4.0)\n",
            "Requirement already satisfied: scipy>=1.3.2 in /usr/local/lib/python3.7/dist-packages (from pmdarima) (1.4.1)\n",
            "Requirement already satisfied: joblib>=0.11 in /usr/local/lib/python3.7/dist-packages (from pmdarima) (1.1.0)\n",
            "Collecting statsmodels!=0.12.0,>=0.11\n",
            "  Downloading statsmodels-0.13.2-cp37-cp37m-manylinux_2_17_x86_64.manylinux2014_x86_64.whl (9.8 MB)\n",
            "\u001b[K     |████████████████████████████████| 9.8 MB 40.9 MB/s \n",
            "\u001b[?25hRequirement already satisfied: python-dateutil>=2.7.3 in /usr/local/lib/python3.7/dist-packages (from pandas>=0.19->pmdarima) (2.8.2)\n",
            "Requirement already satisfied: pytz>=2017.3 in /usr/local/lib/python3.7/dist-packages (from pandas>=0.19->pmdarima) (2022.1)\n",
            "Requirement already satisfied: six>=1.5 in /usr/local/lib/python3.7/dist-packages (from python-dateutil>=2.7.3->pandas>=0.19->pmdarima) (1.15.0)\n",
            "Requirement already satisfied: threadpoolctl>=2.0.0 in /usr/local/lib/python3.7/dist-packages (from scikit-learn>=0.22->pmdarima) (3.1.0)\n",
            "Requirement already satisfied: packaging>=21.3 in /usr/local/lib/python3.7/dist-packages (from statsmodels!=0.12.0,>=0.11->pmdarima) (21.3)\n",
            "Requirement already satisfied: patsy>=0.5.2 in /usr/local/lib/python3.7/dist-packages (from statsmodels!=0.12.0,>=0.11->pmdarima) (0.5.2)\n",
            "Requirement already satisfied: pyparsing!=3.0.5,>=2.0.2 in /usr/local/lib/python3.7/dist-packages (from packaging>=21.3->statsmodels!=0.12.0,>=0.11->pmdarima) (3.0.8)\n",
            "Installing collected packages: statsmodels, pmdarima\n",
            "  Attempting uninstall: statsmodels\n",
            "    Found existing installation: statsmodels 0.10.2\n",
            "    Uninstalling statsmodels-0.10.2:\n",
            "      Successfully uninstalled statsmodels-0.10.2\n",
            "Successfully installed pmdarima-1.8.5 statsmodels-0.13.2\n"
          ]
        }
      ]
    },
    {
      "cell_type": "code",
      "source": [
        "from pmdarima.arima import ADFTest\n",
        "notes = results\n",
        "\n",
        "pitch = notes['pitch']\n",
        "duration = notes['duration']\n",
        "\n",
        "pitch.plot()\n",
        "adf_test = ADFTest(alpha = 0.05)\n",
        "print(adf_test.should_diff(pitch))\n",
        "\n",
        "#data is non stationary, so we need to integrate (d)\n",
        "split = int(len(pitch)*.8)\n",
        "train = pitch[:split]\n",
        "test = pitch[split:]\n",
        "\n",
        "\n",
        "\n",
        "plt.plot(train)\n",
        "plt.plot(test)\n",
        "plt.title(\"Time-Series of a Melody\")\n",
        "plt.xlabel('Time')\n",
        "plt.ylabel('Pitch')\n",
        "plt.show()"
      ],
      "metadata": {
        "id": "5jqG7rZo5uVA",
        "colab": {
          "base_uri": "https://localhost:8080/",
          "height": 313
        },
        "outputId": "5341b4fa-848c-495b-f5bf-88b8a52e9cf6"
      },
      "execution_count": null,
      "outputs": [
        {
          "output_type": "stream",
          "name": "stdout",
          "text": [
            "(0.01, False)\n"
          ]
        },
        {
          "output_type": "display_data",
          "data": {
            "text/plain": [
              "<Figure size 432x288 with 1 Axes>"
            ],
            "image/png": "[encoded data removed]"
          },
          "metadata": {
            "needs_background": "light"
          }
        }
      ]
    },
    {
      "cell_type": "code",
      "source": [
        "acr = plot_acf(train, lags = 50)\n",
        "plt.xlabel('Lags')\n",
        "plt.ylabel('Autocorrelation')\n",
        "plt.plot()\n",
        "\n",
        "pcf = plot_pacf(train, lags = 50)\n",
        "plt.plot()\n",
        "plt.xlabel('Lags')\n",
        "plt.ylabel('Partial Autocorrelation')\n",
        "\n",
        "plt.show()\n",
        "\n",
        "\n",
        "\n"
      ],
      "metadata": {
        "id": "NhrS8ZtEnPa0",
        "colab": {
          "base_uri": "https://localhost:8080/",
          "height": 241
        },
        "outputId": "dbc4f8c0-6118-4d26-fd1a-0f587f6cb1f7"
      },
      "execution_count": null,
      "outputs": [
        {
          "output_type": "error",
          "ename": "NameError",
          "evalue": "ignored",
          "traceback": [
            "\u001b[0;31m---------------------------------------------------------------------------\u001b[0m",
            "\u001b[0;31mNameError\u001b[0m                                 Traceback (most recent call last)",
            "\u001b[0;32m<ipython-input-9-53943c2f2b35>\u001b[0m in \u001b[0;36m<module>\u001b[0;34m()\u001b[0m\n\u001b[0;32m----> 1\u001b[0;31m \u001b[0macr\u001b[0m \u001b[0;34m=\u001b[0m \u001b[0mplot_acf\u001b[0m\u001b[0;34m(\u001b[0m\u001b[0mtrain\u001b[0m\u001b[0;34m,\u001b[0m \u001b[0mlags\u001b[0m \u001b[0;34m=\u001b[0m \u001b[0;36m50\u001b[0m\u001b[0;34m)\u001b[0m\u001b[0;34m\u001b[0m\u001b[0;34m\u001b[0m\u001b[0m\n\u001b[0m\u001b[1;32m      2\u001b[0m \u001b[0mplt\u001b[0m\u001b[0;34m.\u001b[0m\u001b[0mxlabel\u001b[0m\u001b[0;34m(\u001b[0m\u001b[0;34m'Lags'\u001b[0m\u001b[0;34m)\u001b[0m\u001b[0;34m\u001b[0m\u001b[0;34m\u001b[0m\u001b[0m\n\u001b[1;32m      3\u001b[0m \u001b[0mplt\u001b[0m\u001b[0;34m.\u001b[0m\u001b[0mylabel\u001b[0m\u001b[0;34m(\u001b[0m\u001b[0;34m'Autocorrelation'\u001b[0m\u001b[0;34m)\u001b[0m\u001b[0;34m\u001b[0m\u001b[0;34m\u001b[0m\u001b[0m\n\u001b[1;32m      4\u001b[0m \u001b[0mplt\u001b[0m\u001b[0;34m.\u001b[0m\u001b[0mplot\u001b[0m\u001b[0;34m(\u001b[0m\u001b[0;34m)\u001b[0m\u001b[0;34m\u001b[0m\u001b[0;34m\u001b[0m\u001b[0m\n\u001b[1;32m      5\u001b[0m \u001b[0;34m\u001b[0m\u001b[0m\n",
            "\u001b[0;31mNameError\u001b[0m: name 'plot_acf' is not defined"
          ]
        }
      ]
    },
    {
      "cell_type": "code",
      "source": [
        "arima_model = auto_arima(train,start_p=5,d=1,start_q=2,max_p=5,max_q=5,m=12,\n",
        "                         seasonal=False,error_action='warn',trace=True,supress_warnings=True,\n",
        "                         stepwise=True,random_state=20,n_fits=50)\n",
        "\n",
        "#arima_model.summary()"
      ],
      "metadata": {
        "id": "V30t8q_baYZ8",
        "colab": {
          "base_uri": "https://localhost:8080/"
        },
        "outputId": "cca8da0d-9093-4f8c-8e08-1b3e8918dd4c"
      },
      "execution_count": null,
      "outputs": [
        {
          "output_type": "stream",
          "name": "stderr",
          "text": [
            "/usr/local/lib/python3.7/dist-packages/pmdarima/arima/_validation.py:62: UserWarning: m (12) set for non-seasonal fit. Setting to 0\n",
            "  warnings.warn(\"m (%i) set for non-seasonal fit. Setting to 0\" % m)\n"
          ]
        },
        {
          "output_type": "stream",
          "name": "stdout",
          "text": [
            "Performing stepwise search to minimize aic\n",
            " ARIMA(5,1,2)(0,0,0)[0] intercept   : AIC=inf, Time=4.61 sec\n",
            " ARIMA(0,1,0)(0,0,0)[0] intercept   : AIC=1656.045, Time=0.05 sec\n",
            " ARIMA(1,1,0)(0,0,0)[0] intercept   : AIC=1647.101, Time=0.17 sec\n",
            " ARIMA(0,1,1)(0,0,0)[0] intercept   : AIC=1641.248, Time=0.23 sec\n",
            " ARIMA(0,1,0)(0,0,0)[0]             : AIC=1654.103, Time=0.04 sec\n",
            " ARIMA(1,1,1)(0,0,0)[0] intercept   : AIC=1607.476, Time=0.76 sec\n",
            " ARIMA(2,1,1)(0,0,0)[0] intercept   : AIC=1609.475, Time=1.07 sec\n",
            " ARIMA(1,1,2)(0,0,0)[0] intercept   : AIC=1609.475, Time=0.79 sec\n",
            " ARIMA(0,1,2)(0,0,0)[0] intercept   : AIC=1625.361, Time=0.25 sec\n",
            " ARIMA(2,1,0)(0,0,0)[0] intercept   : AIC=1642.814, Time=0.24 sec\n",
            " ARIMA(2,1,2)(0,0,0)[0] intercept   : AIC=1611.423, Time=1.71 sec\n",
            " ARIMA(1,1,1)(0,0,0)[0]             : AIC=1605.536, Time=0.30 sec\n",
            " ARIMA(0,1,1)(0,0,0)[0]             : AIC=1639.331, Time=0.08 sec\n",
            " ARIMA(1,1,0)(0,0,0)[0]             : AIC=1645.172, Time=0.07 sec\n",
            " ARIMA(2,1,1)(0,0,0)[0]             : AIC=1607.535, Time=0.43 sec\n",
            " ARIMA(1,1,2)(0,0,0)[0]             : AIC=1607.535, Time=0.52 sec\n",
            " ARIMA(0,1,2)(0,0,0)[0]             : AIC=1623.498, Time=0.14 sec\n",
            " ARIMA(2,1,0)(0,0,0)[0]             : AIC=1640.892, Time=0.16 sec\n",
            " ARIMA(2,1,2)(0,0,0)[0]             : AIC=1609.485, Time=0.91 sec\n",
            "\n",
            "Best model:  ARIMA(1,1,1)(0,0,0)[0]          \n",
            "Total fit time: 12.579 seconds\n"
          ]
        }
      ]
    },
    {
      "cell_type": "code",
      "source": [
        "prediction = pd.DataFrame(arima_model.predict(n_periods=75),index=test.index)\n",
        "prediction.columns = ['predicted_pitch']\n",
        "prediction\n",
        "\n",
        "plt.figure(figsize=(8,5))\n",
        "plt.plot(train,label=\"training\")\n",
        "plt.plot(test,label=\"test\")\n",
        "plt.plot(prediction,label='predicted')\n",
        "plt.legend()\n",
        "plt.show()\n",
        "\n"
      ],
      "metadata": {
        "id": "J1-PqRm4b471",
        "colab": {
          "base_uri": "https://localhost:8080/",
          "height": 320
        },
        "outputId": "6188bf36-8a61-42e3-96f3-ae415483613f"
      },
      "execution_count": null,
      "outputs": [
        {
          "output_type": "display_data",
          "data": {
            "text/plain": [
              "<Figure size 576x360 with 1 Axes>"
            ],
            "image/png": "[encoded data removed]"
          },
          "metadata": {
            "needs_background": "light"
          }
        }
      ]
    },
    {
      "cell_type": "code",
      "source": [
        "  # given pitch and time what is the next pitch at the next time step? \n",
        "\n",
        "# accumulate points to get better predictions \n",
        "\n",
        "#n_vocab = len(notes)\n",
        "#network_in, network_out = prepare_sequences(notes, n_vocab)\n",
        "#create_network "
      ],
      "metadata": {
        "id": "tveSueQOGYRE"
      },
      "execution_count": null,
      "outputs": []
    }
  ]
}